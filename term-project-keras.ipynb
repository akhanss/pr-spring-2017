{
 "cells": [
  {
   "cell_type": "code",
   "execution_count": 1,
   "metadata": {},
   "outputs": [
    {
     "name": "stderr",
     "output_type": "stream",
     "text": [
      "Using TensorFlow backend.\n"
     ]
    }
   ],
   "source": [
    "import numpy as np\n",
    "\n",
    "# TensorFlow Deep learning framework\n",
    "import tensorflow as tf\n",
    "# Keras framework and other packages to use tensorflow\n",
    "import keras\n",
    "from keras.models import Sequential\n",
    "from keras.layers import Conv2D, MaxPooling2D, Flatten, Dense, Dropout\n",
    "\n",
    "from sklearn.metrics import confusion_matrix, accuracy_score # Evaluation matrices\n",
    "\n",
    "import h5py # manipulate HDF5 dataset"
   ]
  },
  {
   "cell_type": "code",
   "execution_count": 2,
   "metadata": {
    "collapsed": true
   },
   "outputs": [],
   "source": [
    "# Limiting the GPU resource for tensorflow in Keras\n",
    "config = tf.ConfigProto()\n",
    "config.gpu_options.allow_growth = True\n",
    "session = tf.Session(config=config)"
   ]
  },
  {
   "cell_type": "code",
   "execution_count": 3,
   "metadata": {
    "collapsed": true
   },
   "outputs": [],
   "source": [
    "# Load HDF5 train dataset\n",
    "h5train = h5py.File('traindataset.h5', 'r')\n",
    "X_train_images = h5train['X']\n",
    "Y_train_labels = h5train['Y']\n",
    "\n",
    "# Convert it to numpy array\n",
    "X_train_images = np.array(X_train_images.value)\n",
    "Y_train_labels = Y_train_labels.value.T[0].astype(int)\n",
    "\n",
    "# Load HDF5 validation dataset\n",
    "h5val = h5py.File('valdataset.h5', 'r')\n",
    "X_val_images = h5val['X']\n",
    "Y_val_labels = h5val['Y']\n",
    "\n",
    "# Convert it to numpy array\n",
    "X_val_images = np.array(X_val_images.value)\n",
    "Y_val_labels = Y_val_labels.value.T[0].astype(int)"
   ]
  },
  {
   "cell_type": "code",
   "execution_count": 4,
   "metadata": {
    "collapsed": true
   },
   "outputs": [],
   "source": [
    "# Design the neural net\n",
    "# Swetha Subramanian neural net, however I've ommited Image processing and Image Augmentation that Subramanian did in tflearn\n",
    "model = Sequential()\n",
    "model.add(Conv2D(50, 3, activation='relu', kernel_initializer=\"uniform\", input_shape=(50, 50, 3)))\n",
    "model.add(MaxPooling2D(pool_size=(2, 2)))\n",
    "model.add(Conv2D(64, 3, activation='relu'))\n",
    "model.add(Conv2D(64, 3, activation='relu'))\n",
    "model.add(MaxPooling2D(pool_size=(2, 2)))\n",
    "model.add(Flatten())\n",
    "model.add(Dense(512, activation='relu'))\n",
    "model.add(Dropout(0.5))\n",
    "model.add(Dense(1, activation='sigmoid'))\n",
    "model.compile(optimizer = 'adam', loss='binary_crossentropy', metrics=['accuracy'])"
   ]
  },
  {
   "cell_type": "code",
   "execution_count": 5,
   "metadata": {},
   "outputs": [
    {
     "name": "stdout",
     "output_type": "stream",
     "text": [
      "_________________________________________________________________\n",
      "Layer (type)                 Output Shape              Param #   \n",
      "=================================================================\n",
      "conv2d_1 (Conv2D)            (None, 48, 48, 50)        1400      \n",
      "_________________________________________________________________\n",
      "max_pooling2d_1 (MaxPooling2 (None, 24, 24, 50)        0         \n",
      "_________________________________________________________________\n",
      "conv2d_2 (Conv2D)            (None, 22, 22, 64)        28864     \n",
      "_________________________________________________________________\n",
      "conv2d_3 (Conv2D)            (None, 20, 20, 64)        36928     \n",
      "_________________________________________________________________\n",
      "max_pooling2d_2 (MaxPooling2 (None, 10, 10, 64)        0         \n",
      "_________________________________________________________________\n",
      "flatten_1 (Flatten)          (None, 6400)              0         \n",
      "_________________________________________________________________\n",
      "dense_1 (Dense)              (None, 512)               3277312   \n",
      "_________________________________________________________________\n",
      "dropout_1 (Dropout)          (None, 512)               0         \n",
      "_________________________________________________________________\n",
      "dense_2 (Dense)              (None, 1)                 513       \n",
      "=================================================================\n",
      "Total params: 3,345,017\n",
      "Trainable params: 3,345,017\n",
      "Non-trainable params: 0\n",
      "_________________________________________________________________\n"
     ]
    }
   ],
   "source": [
    "model.summary()"
   ]
  },
  {
   "cell_type": "code",
   "execution_count": 6,
   "metadata": {
    "scrolled": true
   },
   "outputs": [
    {
     "name": "stdout",
     "output_type": "stream",
     "text": [
      "Train on 5501 samples, validate on 1376 samples\n",
      "Epoch 1/100\n",
      "5501/5501 [==============================] - 2s - loss: 0.6795 - acc: 1.0000 - val_loss: 0.6648 - val_acc: 1.0000\n",
      "Epoch 2/100\n",
      "5501/5501 [==============================] - 1s - loss: 0.6514 - acc: 1.0000 - val_loss: 0.6374 - val_acc: 1.0000\n",
      "Epoch 3/100\n",
      "5501/5501 [==============================] - 1s - loss: 0.6246 - acc: 1.0000 - val_loss: 0.6112 - val_acc: 1.0000\n",
      "Epoch 4/100\n",
      "5501/5501 [==============================] - 1s - loss: 0.5990 - acc: 1.0000 - val_loss: 0.5862 - val_acc: 1.0000\n",
      "Epoch 5/100\n",
      "5501/5501 [==============================] - 1s - loss: 0.5745 - acc: 1.0000 - val_loss: 0.5624 - val_acc: 1.0000\n",
      "Epoch 6/100\n",
      "5501/5501 [==============================] - 1s - loss: 0.5512 - acc: 1.0000 - val_loss: 0.5396 - val_acc: 1.0000\n",
      "Epoch 7/100\n",
      "5501/5501 [==============================] - 1s - loss: 0.5289 - acc: 1.0000 - val_loss: 0.5178 - val_acc: 1.0000\n",
      "Epoch 8/100\n",
      "5501/5501 [==============================] - 1s - loss: 0.5077 - acc: 1.0000 - val_loss: 0.4971 - val_acc: 1.00001.000\n",
      "Epoch 9/100\n",
      "5501/5501 [==============================] - 1s - loss: 0.4874 - acc: 1.0000 - val_loss: 0.4772 - val_acc: 1.0000\n",
      "Epoch 10/100\n",
      "5501/5501 [==============================] - 1s - loss: 0.4680 - acc: 1.0000 - val_loss: 0.4583 - val_acc: 1.0000\n",
      "Epoch 11/100\n",
      "5501/5501 [==============================] - 1s - loss: 0.4495 - acc: 1.0000 - val_loss: 0.4403 - val_acc: 1.0000\n",
      "Epoch 12/100\n",
      "5501/5501 [==============================] - 1s - loss: 0.4318 - acc: 1.0000 - val_loss: 0.4230 - val_acc: 1.0000\n",
      "Epoch 13/100\n",
      "5501/5501 [==============================] - 1s - loss: 0.4150 - acc: 1.0000 - val_loss: 0.4066 - val_acc: 1.0000\n",
      "Epoch 14/100\n",
      "5501/5501 [==============================] - 1s - loss: 0.3989 - acc: 1.0000 - val_loss: 0.3909 - val_acc: 1.0000\n",
      "Epoch 15/100\n",
      "5501/5501 [==============================] - 1s - loss: 0.3836 - acc: 1.0000 - val_loss: 0.3759 - val_acc: 1.0000\n",
      "Epoch 16/100\n",
      "5501/5501 [==============================] - 1s - loss: 0.3689 - acc: 1.0000 - val_loss: 0.3616 - val_acc: 1.0000\n",
      "Epoch 17/100\n",
      "5501/5501 [==============================] - 1s - loss: 0.3549 - acc: 1.0000 - val_loss: 0.3479 - val_acc: 1.0000\n",
      "Epoch 18/100\n",
      "5501/5501 [==============================] - 1s - loss: 0.3416 - acc: 1.0000 - val_loss: 0.3349 - val_acc: 1.0000\n",
      "Epoch 19/100\n",
      "5501/5501 [==============================] - 1s - loss: 0.3288 - acc: 1.0000 - val_loss: 0.3224 - val_acc: 1.0000\n",
      "Epoch 20/100\n",
      "5501/5501 [==============================] - 1s - loss: 0.3166 - acc: 1.0000 - val_loss: 0.3105 - val_acc: 1.0000\n",
      "Epoch 21/100\n",
      "5501/5501 [==============================] - 1s - loss: 0.3050 - acc: 1.0000 - val_loss: 0.2991 - val_acc: 1.0000\n",
      "Epoch 22/100\n",
      "5501/5501 [==============================] - 1s - loss: 0.2938 - acc: 1.0000 - val_loss: 0.2883 - val_acc: 1.0000\n",
      "Epoch 23/100\n",
      "5501/5501 [==============================] - 1s - loss: 0.2832 - acc: 1.0000 - val_loss: 0.2779 - val_acc: 1.00001.000 - ETA: 1s - loss: 0.28\n",
      "Epoch 24/100\n",
      "5501/5501 [==============================] - 1s - loss: 0.2730 - acc: 1.0000 - val_loss: 0.2679 - val_acc: 1.0000\n",
      "Epoch 25/100\n",
      "5501/5501 [==============================] - 1s - loss: 0.2633 - acc: 1.0000 - val_loss: 0.2584 - val_acc: 1.0000\n",
      "Epoch 26/100\n",
      "5501/5501 [==============================] - 1s - loss: 0.2539 - acc: 1.0000 - val_loss: 0.2493 - val_acc: 1.0000\n",
      "Epoch 27/100\n",
      "5501/5501 [==============================] - 1s - loss: 0.2450 - acc: 1.0000 - val_loss: 0.2406 - val_acc: 1.0000\n",
      "Epoch 28/100\n",
      "5501/5501 [==============================] - 1s - loss: 0.2365 - acc: 1.0000 - val_loss: 0.2322 - val_acc: 1.0000\n",
      "Epoch 29/100\n",
      "5501/5501 [==============================] - 1s - loss: 0.2283 - acc: 1.0000 - val_loss: 0.2242 - val_acc: 1.0000\n",
      "Epoch 30/100\n",
      "5501/5501 [==============================] - 1s - loss: 0.2205 - acc: 1.0000 - val_loss: 0.2165 - val_acc: 1.0000\n",
      "Epoch 31/100\n",
      "5501/5501 [==============================] - 1s - loss: 0.2129 - acc: 1.0000 - val_loss: 0.2092 - val_acc: 1.0000\n",
      "Epoch 32/100\n",
      "5501/5501 [==============================] - 1s - loss: 0.2057 - acc: 1.0000 - val_loss: 0.2021 - val_acc: 1.0000\n",
      "Epoch 33/100\n",
      "5501/5501 [==============================] - 1s - loss: 0.1988 - acc: 1.0000 - val_loss: 0.1954 - val_acc: 1.0000\n",
      "Epoch 34/100\n",
      "5501/5501 [==============================] - 1s - loss: 0.1922 - acc: 1.0000 - val_loss: 0.1889 - val_acc: 1.0000\n",
      "Epoch 35/100\n",
      "5501/5501 [==============================] - 1s - loss: 0.1859 - acc: 1.0000 - val_loss: 0.1827 - val_acc: 1.0000\n",
      "Epoch 36/100\n",
      "5501/5501 [==============================] - 1s - loss: 0.1798 - acc: 1.0000 - val_loss: 0.1767 - val_acc: 1.0000\n",
      "Epoch 37/100\n",
      "5501/5501 [==============================] - 1s - loss: 0.1739 - acc: 1.0000 - val_loss: 0.1710 - val_acc: 1.0000\n",
      "Epoch 38/100\n",
      "5501/5501 [==============================] - 1s - loss: 0.1683 - acc: 1.0000 - val_loss: 0.1654 - val_acc: 1.0000\n",
      "Epoch 39/100\n",
      "5501/5501 [==============================] - 1s - loss: 0.1628 - acc: 1.0000 - val_loss: 0.1601 - val_acc: 1.0000\n",
      "Epoch 40/100\n",
      "5501/5501 [==============================] - 1s - loss: 0.1576 - acc: 1.0000 - val_loss: 0.1550 - val_acc: 1.0000\n",
      "Epoch 41/100\n",
      "5501/5501 [==============================] - 1s - loss: 0.1526 - acc: 1.0000 - val_loss: 0.1501 - val_acc: 1.0000\n",
      "Epoch 42/100\n",
      "5501/5501 [==============================] - 1s - loss: 0.1478 - acc: 1.0000 - val_loss: 0.1454 - val_acc: 1.0000\n",
      "Epoch 43/100\n",
      "5501/5501 [==============================] - 1s - loss: 0.1432 - acc: 1.0000 - val_loss: 0.1409 - val_acc: 1.0000\n",
      "Epoch 44/100\n",
      "5501/5501 [==============================] - 1s - loss: 0.1387 - acc: 1.0000 - val_loss: 0.1365 - val_acc: 1.0000\n",
      "Epoch 45/100\n",
      "5501/5501 [==============================] - 1s - loss: 0.1344 - acc: 1.0000 - val_loss: 0.1323 - val_acc: 1.0000\n",
      "Epoch 46/100\n",
      "5501/5501 [==============================] - 1s - loss: 0.1303 - acc: 1.0000 - val_loss: 0.1282 - val_acc: 1.0000\n",
      "Epoch 47/100\n",
      "5501/5501 [==============================] - 1s - loss: 0.1263 - acc: 1.0000 - val_loss: 0.1243 - val_acc: 1.0000\n",
      "Epoch 48/100\n",
      "5501/5501 [==============================] - 1s - loss: 0.1225 - acc: 1.0000 - val_loss: 0.1206 - val_acc: 1.0000\n",
      "Epoch 49/100\n",
      "5501/5501 [==============================] - 1s - loss: 0.1188 - acc: 1.0000 - val_loss: 0.1169 - val_acc: 1.0000\n",
      "Epoch 50/100\n",
      "5501/5501 [==============================] - 1s - loss: 0.1152 - acc: 1.0000 - val_loss: 0.1134 - val_acc: 1.0000\n",
      "Epoch 51/100\n",
      "5501/5501 [==============================] - 1s - loss: 0.1118 - acc: 1.0000 - val_loss: 0.1101 - val_acc: 1.0000\n",
      "Epoch 52/100\n",
      "5501/5501 [==============================] - 1s - loss: 0.1085 - acc: 1.0000 - val_loss: 0.1068 - val_acc: 1.0000\n",
      "Epoch 53/100\n",
      "5501/5501 [==============================] - 1s - loss: 0.1053 - acc: 1.0000 - val_loss: 0.1036 - val_acc: 1.0000\n",
      "Epoch 54/100\n",
      "5501/5501 [==============================] - 1s - loss: 0.1022 - acc: 1.0000 - val_loss: 0.1006 - val_acc: 1.0000\n",
      "Epoch 55/100\n",
      "5501/5501 [==============================] - 1s - loss: 0.0992 - acc: 1.0000 - val_loss: 0.0977 - val_acc: 1.0000\n",
      "Epoch 56/100\n",
      "5501/5501 [==============================] - 1s - loss: 0.0963 - acc: 1.0000 - val_loss: 0.0948 - val_acc: 1.0000\n",
      "Epoch 57/100\n",
      "5501/5501 [==============================] - 1s - loss: 0.0935 - acc: 1.0000 - val_loss: 0.0921 - val_acc: 1.0000\n",
      "Epoch 58/100\n",
      "5501/5501 [==============================] - 1s - loss: 0.0908 - acc: 1.0000 - val_loss: 0.0894 - val_acc: 1.0000\n",
      "Epoch 59/100\n",
      "5501/5501 [==============================] - 1s - loss: 0.0882 - acc: 1.0000 - val_loss: 0.0869 - val_acc: 1.0000\n",
      "Epoch 60/100\n",
      "5501/5501 [==============================] - 1s - loss: 0.0857 - acc: 1.0000 - val_loss: 0.0844 - val_acc: 1.0000\n",
      "Epoch 61/100\n",
      "5501/5501 [==============================] - 1s - loss: 0.0832 - acc: 1.0000 - val_loss: 0.0820 - val_acc: 1.0000\n",
      "Epoch 62/100\n",
      "5501/5501 [==============================] - 1s - loss: 0.0809 - acc: 1.0000 - val_loss: 0.0797 - val_acc: 1.0000\n",
      "Epoch 63/100\n",
      "5501/5501 [==============================] - 1s - loss: 0.0786 - acc: 1.0000 - val_loss: 0.0775 - val_acc: 1.0000\n",
      "Epoch 64/100\n"
     ]
    },
    {
     "name": "stdout",
     "output_type": "stream",
     "text": [
      "5501/5501 [==============================] - 1s - loss: 0.0764 - acc: 1.0000 - val_loss: 0.0753 - val_acc: 1.0000\n",
      "Epoch 65/100\n",
      "5501/5501 [==============================] - 1s - loss: 0.0743 - acc: 1.0000 - val_loss: 0.0732 - val_acc: 1.0000\n",
      "Epoch 66/100\n",
      "5501/5501 [==============================] - 1s - loss: 0.0722 - acc: 1.0000 - val_loss: 0.0712 - val_acc: 1.0000\n",
      "Epoch 67/100\n",
      "5501/5501 [==============================] - 1s - loss: 0.0702 - acc: 1.0000 - val_loss: 0.0692 - val_acc: 1.0000\n",
      "Epoch 68/100\n",
      "5501/5501 [==============================] - 1s - loss: 0.0683 - acc: 1.0000 - val_loss: 0.0673 - val_acc: 1.0000\n",
      "Epoch 69/100\n",
      "5501/5501 [==============================] - 1s - loss: 0.0664 - acc: 1.0000 - val_loss: 0.0654 - val_acc: 1.0000\n",
      "Epoch 70/100\n",
      "5501/5501 [==============================] - 1s - loss: 0.0646 - acc: 1.0000 - val_loss: 0.0636 - val_acc: 1.0000\n",
      "Epoch 71/100\n",
      "5501/5501 [==============================] - 1s - loss: 0.0628 - acc: 1.0000 - val_loss: 0.0619 - val_acc: 1.0000\n",
      "Epoch 72/100\n",
      "5501/5501 [==============================] - 1s - loss: 0.0611 - acc: 1.0000 - val_loss: 0.0602 - val_acc: 1.0000\n",
      "Epoch 73/100\n",
      "5501/5501 [==============================] - 1s - loss: 0.0594 - acc: 1.0000 - val_loss: 0.0586 - val_acc: 1.0000\n",
      "Epoch 74/100\n",
      "5501/5501 [==============================] - 1s - loss: 0.0578 - acc: 1.0000 - val_loss: 0.0570 - val_acc: 1.0000\n",
      "Epoch 75/100\n",
      "5501/5501 [==============================] - 1s - loss: 0.0563 - acc: 1.0000 - val_loss: 0.0555 - val_acc: 1.0000\n",
      "Epoch 76/100\n",
      "5501/5501 [==============================] - 1s - loss: 0.0547 - acc: 1.0000 - val_loss: 0.0540 - val_acc: 1.0000\n",
      "Epoch 77/100\n",
      "5501/5501 [==============================] - 1s - loss: 0.0533 - acc: 1.0000 - val_loss: 0.0525 - val_acc: 1.0000\n",
      "Epoch 78/100\n",
      "5501/5501 [==============================] - 1s - loss: 0.0519 - acc: 1.0000 - val_loss: 0.0511 - val_acc: 1.0000\n",
      "Epoch 79/100\n",
      "5501/5501 [==============================] - 1s - loss: 0.0505 - acc: 1.0000 - val_loss: 0.0498 - val_acc: 1.0000\n",
      "Epoch 80/100\n",
      "5501/5501 [==============================] - 1s - loss: 0.0491 - acc: 1.0000 - val_loss: 0.0485 - val_acc: 1.00001 - ETA: 0s - loss: 0.0\n",
      "Epoch 81/100\n",
      "5501/5501 [==============================] - 1s - loss: 0.0478 - acc: 1.0000 - val_loss: 0.0472 - val_acc: 1.0000\n",
      "Epoch 82/100\n",
      "5501/5501 [==============================] - 1s - loss: 0.0466 - acc: 1.0000 - val_loss: 0.0459 - val_acc: 1.0000\n",
      "Epoch 83/100\n",
      "5501/5501 [==============================] - 1s - loss: 0.0453 - acc: 1.0000 - val_loss: 0.0447 - val_acc: 1.0000\n",
      "Epoch 84/100\n",
      "5501/5501 [==============================] - 1s - loss: 0.0442 - acc: 1.0000 - val_loss: 0.0436 - val_acc: 1.0000\n",
      "Epoch 85/100\n",
      "5501/5501 [==============================] - 1s - loss: 0.0430 - acc: 1.0000 - val_loss: 0.0424 - val_acc: 1.0000\n",
      "Epoch 86/100\n",
      "5501/5501 [==============================] - 1s - loss: 0.0419 - acc: 1.0000 - val_loss: 0.0413 - val_acc: 1.0000\n",
      "Epoch 87/100\n",
      "5501/5501 [==============================] - 1s - loss: 0.0408 - acc: 1.0000 - val_loss: 0.0402 - val_acc: 1.0000\n",
      "Epoch 88/100\n",
      "5501/5501 [==============================] - 1s - loss: 0.0397 - acc: 1.0000 - val_loss: 0.0392 - val_acc: 1.0000\n",
      "Epoch 89/100\n",
      "5501/5501 [==============================] - 1s - loss: 0.0387 - acc: 1.0000 - val_loss: 0.0382 - val_acc: 1.0000\n",
      "Epoch 90/100\n",
      "5501/5501 [==============================] - 1s - loss: 0.0377 - acc: 1.0000 - val_loss: 0.0372 - val_acc: 1.0000\n",
      "Epoch 91/100\n",
      "5501/5501 [==============================] - 1s - loss: 0.0367 - acc: 1.0000 - val_loss: 0.0362 - val_acc: 1.0000\n",
      "Epoch 92/100\n",
      "5501/5501 [==============================] - 1s - loss: 0.0358 - acc: 1.0000 - val_loss: 0.0353 - val_acc: 1.0000\n",
      "Epoch 93/100\n",
      "5501/5501 [==============================] - 1s - loss: 0.0348 - acc: 1.0000 - val_loss: 0.0344 - val_acc: 1.0000\n",
      "Epoch 94/100\n",
      "5501/5501 [==============================] - 1s - loss: 0.0339 - acc: 1.0000 - val_loss: 0.0335 - val_acc: 1.0000\n",
      "Epoch 95/100\n",
      "5501/5501 [==============================] - 1s - loss: 0.0331 - acc: 1.0000 - val_loss: 0.0326 - val_acc: 1.0000\n",
      "Epoch 96/100\n",
      "5501/5501 [==============================] - 1s - loss: 0.0322 - acc: 1.0000 - val_loss: 0.0318 - val_acc: 1.0000\n",
      "Epoch 97/100\n",
      "5501/5501 [==============================] - 1s - loss: 0.0314 - acc: 1.0000 - val_loss: 0.0310 - val_acc: 1.0000\n",
      "Epoch 98/100\n",
      "5501/5501 [==============================] - 1s - loss: 0.0306 - acc: 1.0000 - val_loss: 0.0302 - val_acc: 1.0000\n",
      "Epoch 99/100\n",
      "5501/5501 [==============================] - 1s - loss: 0.0298 - acc: 1.0000 - val_loss: 0.0294 - val_acc: 1.0000\n",
      "Epoch 100/100\n",
      "5501/5501 [==============================] - 1s - loss: 0.0291 - acc: 1.0000 - val_loss: 0.0287 - val_acc: 1.0000\n"
     ]
    },
    {
     "data": {
      "text/plain": [
       "<keras.callbacks.History at 0x7f72006e5e10>"
      ]
     },
     "execution_count": 6,
     "metadata": {},
     "output_type": "execute_result"
    }
   ],
   "source": [
    "# model.fit(X_train_images, Y_train_labels, batch_size=96, epochs=100, validation_data=(X_val_images, Y_val_labels),shuffle=True)\n",
    "model.fit(X_train_images, Y_train_labels, batch_size=96, epochs=100, validation_split=0.2,shuffle=True)"
   ]
  },
  {
   "cell_type": "code",
   "execution_count": 7,
   "metadata": {
    "collapsed": true
   },
   "outputs": [],
   "source": [
    "# Load HDF5 test datataset\n",
    "h5test = h5py.File('testdataset.h5', 'r')\n",
    "X_test_images = h5test['X']\n",
    "Y_test_labels = h5test['Y']\n",
    "\n",
    "# Convert it to numpy array\n",
    "X_test_images = np.array(X_test_images.value)\n",
    "Y_test_labels = Y_test_labels.value.T[0].astype(int)"
   ]
  },
  {
   "cell_type": "code",
   "execution_count": 8,
   "metadata": {
    "collapsed": true
   },
   "outputs": [],
   "source": [
    "y_probs = model.predict(X_test_images)"
   ]
  },
  {
   "cell_type": "code",
   "execution_count": 9,
   "metadata": {
    "collapsed": true
   },
   "outputs": [],
   "source": [
    "# Convert the predictions into binary values (0/1) with threshold > 0.5 for 1\n",
    "yPreds = (y_probs > 0.5)"
   ]
  },
  {
   "cell_type": "code",
   "execution_count": 10,
   "metadata": {
    "collapsed": true
   },
   "outputs": [],
   "source": [
    "# Definition for performance measurement\n",
    "# Input: target and prediction\n",
    "# Output: confusion matrix and accuracy\n",
    "\n",
    "def performance_measure(target, prediction):\n",
    "    accuracy = accuracy_score(target, prediction)\n",
    "    confusion = confusion_matrix(target, prediction)\n",
    "    \n",
    "    return confusion, accuracy"
   ]
  },
  {
   "cell_type": "code",
   "execution_count": 11,
   "metadata": {},
   "outputs": [
    {
     "data": {
      "text/plain": [
       "(array([[ 282,    0],\n",
       "        [1340,    0]]), 0.17385943279901356)"
      ]
     },
     "execution_count": 11,
     "metadata": {},
     "output_type": "execute_result"
    }
   ],
   "source": [
    "# Performance measure\n",
    "performance_measure(Y_test_labels, yPreds)"
   ]
  },
  {
   "cell_type": "code",
   "execution_count": null,
   "metadata": {
    "collapsed": true
   },
   "outputs": [],
   "source": []
  }
 ],
 "metadata": {
  "kernelspec": {
   "display_name": "Python 3",
   "language": "python",
   "name": "python3"
  },
  "language_info": {
   "codemirror_mode": {
    "name": "ipython",
    "version": 3
   },
   "file_extension": ".py",
   "mimetype": "text/x-python",
   "name": "python",
   "nbconvert_exporter": "python",
   "pygments_lexer": "ipython3",
   "version": "3.5.3"
  }
 },
 "nbformat": 4,
 "nbformat_minor": 2
}
